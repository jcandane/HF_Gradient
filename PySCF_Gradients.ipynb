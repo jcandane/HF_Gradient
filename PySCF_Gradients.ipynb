{
  "cells": [
    {
      "cell_type": "markdown",
      "metadata": {
        "id": "view-in-github",
        "colab_type": "text"
      },
      "source": [
        "<a href=\"https://colab.research.google.com/github/jcandane/HF_Gradient/blob/main/PySCF_Gradients.ipynb\" target=\"_parent\"><img src=\"https://colab.research.google.com/assets/colab-badge.svg\" alt=\"Open In Colab\"/></a>"
      ]
    },
    {
      "cell_type": "markdown",
      "metadata": {
        "id": "OqL3X17rrg_f"
      },
      "source": [
        "# Nuclear Gradients of AO Integrals in PySCF"
      ]
    },
    {
      "cell_type": "markdown",
      "metadata": {
        "id": "TD9Xhpanrg_i"
      },
      "source": [
        "Let's begin by importing packages"
      ]
    },
    {
      "cell_type": "code",
      "execution_count": null,
      "metadata": {
        "colab": {
          "base_uri": "https://localhost:8080/"
        },
        "id": "mTYU3Ji_rg_i",
        "outputId": "66cba9fc-82c9-4695-e58d-354092c42cb2"
      },
      "outputs": [
        {
          "output_type": "stream",
          "name": "stdout",
          "text": [
            "Collecting pyscf\n",
            "  Downloading pyscf-2.0.1-cp37-cp37m-manylinux1_x86_64.whl (37.5 MB)\n",
            "\u001b[K     |████████████████████████████████| 37.5 MB 1.2 MB/s \n",
            "\u001b[?25hRequirement already satisfied: h5py>=2.7 in /usr/local/lib/python3.7/dist-packages (from pyscf) (3.1.0)\n",
            "Requirement already satisfied: numpy!=1.16,!=1.17,>=1.13 in /usr/local/lib/python3.7/dist-packages (from pyscf) (1.21.5)\n",
            "Requirement already satisfied: scipy!=1.5.0,!=1.5.1 in /usr/local/lib/python3.7/dist-packages (from pyscf) (1.4.1)\n",
            "Requirement already satisfied: cached-property in /usr/local/lib/python3.7/dist-packages (from h5py>=2.7->pyscf) (1.5.2)\n",
            "Installing collected packages: pyscf\n",
            "Successfully installed pyscf-2.0.1\n"
          ]
        }
      ],
      "source": [
        "!pip install pyscf \n",
        "\n",
        "import numpy as np\n",
        "import matplotlib.pyplot as plt\n",
        "from pyscf import scf, gto\n",
        "\n",
        "np.set_printoptions(precision=6, linewidth=200, threshold=2000, suppress=True)"
      ]
    },
    {
      "cell_type": "markdown",
      "metadata": {
        "id": "4cspCtdlrg_j"
      },
      "source": [
        "Let's Setup the Water Molecule with PySCF"
      ]
    },
    {
      "cell_type": "code",
      "execution_count": null,
      "metadata": {
        "colab": {
          "base_uri": "https://localhost:8080/"
        },
        "id": "mmsv1DJTrg_j",
        "outputId": "fd6eaea3-a19b-4ad9-8a73-d914497fe8a6"
      },
      "outputs": [
        {
          "output_type": "stream",
          "name": "stdout",
          "text": [
            "-74.96306312972916\n"
          ]
        }
      ],
      "source": [
        "h2o = gto.Mole()\n",
        "h2o.verbose = 0\n",
        "h2o.atom = [\n",
        "    ['O' , (0. , 0.     , 0.)],\n",
        "    [1   , (0. , -0.757 , 0.587)],\n",
        "    [1   , (0. , 0.757  , 0.587)] ]\n",
        "h2o.basis = {'H': 'sto-3g',\n",
        "             'O': 'sto-3g',}\n",
        "h2o.build()\n",
        "H20_HF = scf.RHF(h2o)\n",
        "H20_HF.conv_tol = 1e-14\n",
        "e0 = H20_HF.scf()\n",
        "print(e0)"
      ]
    },
    {
      "cell_type": "markdown",
      "metadata": {
        "id": "lyz7IusRrg_k"
      },
      "source": [
        "Let's Import, prebuilt functions:"
      ]
    },
    {
      "cell_type": "code",
      "execution_count": null,
      "metadata": {
        "id": "r2ywbKoZrg_l"
      },
      "outputs": [],
      "source": [
        "def h_deriv(atom_id, h1, mol):\n",
        "    shl0, shl1, p0, p1 = (mol.aoslice_by_atom())[atom_id]\n",
        "    with mol.with_rinv_at_nucleus(atom_id):\n",
        "        vrinv  = (-mol.atom_charge(atom_id)) * mol.intor('int1e_iprinv', comp=3) # <\\nabla|1/r|>\n",
        "        vrinv += mol.intor('ECPscalar_iprinv', comp=3)\n",
        "    vrinv[:,p0:p1] += h1[:,p0:p1]\n",
        "    return vrinv + vrinv.swapaxes(1,2) \n",
        "def S_deriv(atom_id, S_xAB, mol):\n",
        "    shl0, shl1, p0, p1 = (mol.aoslice_by_atom())[atom_id]\n",
        "\n",
        "    vrinv = np.zeros(S_xAB.shape)\n",
        "    vrinv[:, p0:p1, :] += S_xAB[:, p0:p1, :]\n",
        "    \n",
        "    return vrinv + vrinv.swapaxes(1,2)\n",
        "def I_deriv(atom_id, I_xABCD, mol):\n",
        "    shl0, shl1, p0, p1 = (mol.aoslice_by_atom())[atom_id]\n",
        "\n",
        "    vrinv  = np.zeros(I_xABCD.shape)\n",
        "    vrinv[:, p0:p1, :, :, :] += I_xABCD[:, p0:p1, :, :, :]\n",
        "    \n",
        "    vrinv += np.einsum(\"xABCD -> xCDAB\", vrinv) \n",
        "    vrinv += np.einsum(\"xABCD -> xBACD\", vrinv) \n",
        "    vrinv += np.einsum(\"xABCD -> xABDC\", vrinv)\n",
        "    vrinv += np.einsum(\"xABCD -> xBADC\", vrinv)\n",
        "    \n",
        "    return vrinv/4."
      ]
    },
    {
      "cell_type": "code",
      "execution_count": null,
      "metadata": {
        "id": "dyVZIYA1rg_l"
      },
      "outputs": [],
      "source": [
        "h_xAB    = -h2o.intor('ECPscalar_ipnuc', comp=3)\n",
        "h_xAB   += -h2o.intor('int1e_ipkin', comp=3)\n",
        "h_xAB   += -h2o.intor('int1e_ipnuc', comp=3)\n",
        "S_xAB    = -h2o.intor('int1e_ipovlp', comp=3)\n",
        "I_xABCD  = -h2o.intor('int2e_ip1', comp=3)\n",
        "dI_pyscf = np.zeros(((len(h2o.aoslice_by_atom()),) + I_xABCD.shape))\n",
        "dH_pyscf = np.zeros(((len(h2o.aoslice_by_atom()),) + h_xAB.shape))\n",
        "dS_pyscf = np.zeros(((len(h2o.aoslice_by_atom()),) + S_xAB.shape))\n",
        "for i in range(len(h2o.aoslice_by_atom())):\n",
        "    dI_pyscf[i] = I_deriv(i, I_xABCD, h2o)\n",
        "    dS_pyscf[i] = S_deriv(i, S_xAB, h2o)\n",
        "    dH_pyscf[i] = h_deriv(i, h_xAB, h2o)"
      ]
    },
    {
      "cell_type": "code",
      "execution_count": null,
      "metadata": {
        "colab": {
          "base_uri": "https://localhost:8080/"
        },
        "id": "jLKCKNrErg_m",
        "outputId": "7e96dc46-5d49-44f6-86b7-c89df2665d10"
      },
      "outputs": [
        {
          "output_type": "stream",
          "name": "stdout",
          "text": [
            "[[-0.24116  -0.057084  0.        0.007479 -0.012439 -1.743896 -0.013067]\n",
            " [-0.057084 -0.21881   0.        0.06568  -0.12905  -2.640749 -0.088277]\n",
            " [ 0.        0.       -0.178782  0.        0.        0.        0.      ]\n",
            " [ 0.007479  0.06568   0.       -0.21376   0.069363  0.470044 -0.02343 ]\n",
            " [-0.012439 -0.12905   0.        0.069363 -0.265322 -1.55448  -0.07679 ]\n",
            " [-1.743896 -2.640749  0.        0.470044 -1.55448  -1.715006 -1.360205]\n",
            " [-0.013067 -0.088277  0.       -0.02343  -0.07679  -1.360205 -0.118652]]\n"
          ]
        }
      ],
      "source": [
        "print(dH_pyscf[1,1])"
      ]
    },
    {
      "cell_type": "code",
      "execution_count": null,
      "metadata": {
        "colab": {
          "base_uri": "https://localhost:8080/"
        },
        "id": "gudJURXGrg_n",
        "outputId": "c412adee-f949-4dd8-9de0-3bd4c3111ad5"
      },
      "outputs": [
        {
          "output_type": "stream",
          "name": "stdout",
          "text": [
            "[[ 0.        0.        0.        0.        0.        0.058066  0.      ]\n",
            " [ 0.        0.        0.        0.        0.        0.221006  0.      ]\n",
            " [ 0.        0.        0.        0.        0.        0.        0.      ]\n",
            " [ 0.        0.        0.        0.        0.       -0.046216  0.      ]\n",
            " [ 0.        0.        0.        0.        0.        0.143113  0.      ]\n",
            " [ 0.058066  0.221006  0.       -0.046216  0.143113  0.150351  0.11779 ]\n",
            " [ 0.        0.        0.        0.        0.        0.11779   0.      ]]\n"
          ]
        }
      ],
      "source": [
        "print(dI_pyscf[1,1,1,1])"
      ]
    },
    {
      "cell_type": "code",
      "execution_count": null,
      "metadata": {
        "colab": {
          "base_uri": "https://localhost:8080/"
        },
        "id": "J_EvFmFPrg_n",
        "outputId": "6cc4871e-be73-4a58-882d-c53801ac571b"
      },
      "outputs": [
        {
          "output_type": "stream",
          "name": "stdout",
          "text": [
            "[[ 0.        0.        0.        0.        0.        0.05348   0.      ]\n",
            " [ 0.        0.        0.        0.        0.        0.274295  0.      ]\n",
            " [ 0.        0.        0.        0.        0.        0.        0.      ]\n",
            " [ 0.        0.        0.        0.        0.       -0.033438  0.      ]\n",
            " [ 0.        0.        0.        0.        0.        0.194362  0.      ]\n",
            " [ 0.05348   0.274295  0.       -0.033438  0.194362  0.        0.191429]\n",
            " [ 0.        0.        0.        0.        0.        0.191429  0.      ]]\n"
          ]
        }
      ],
      "source": [
        "print(dS_pyscf[1,1])"
      ]
    },
    {
      "cell_type": "markdown",
      "metadata": {
        "id": "OdgW2dUSrg_n"
      },
      "source": [
        "Let's try something with an ECP potential!"
      ]
    },
    {
      "cell_type": "code",
      "execution_count": null,
      "metadata": {
        "id": "F29CJujwrg_n"
      },
      "outputs": [],
      "source": [
        "h2o = gto.Mole()\n",
        "h2o.verbose = 0\n",
        "h2o.atom = [\n",
        "    ['O' , (0. , 0.     , 0.)],\n",
        "    [1   , (0. , -0.757 , 0.587)],\n",
        "    [1   , (0. , 0.757  , 0.587)] ]\n",
        "h2o.basis = {'H': 'sto-3g',\n",
        "             'O': 'lanl2dz',}\n",
        "h2o.build()\n",
        "H20_HF = scf.RHF(h2o)\n",
        "H20_HF.conv_tol = 1e-14\n",
        "e0 = H20_HF.scf()"
      ]
    },
    {
      "cell_type": "markdown",
      "metadata": {
        "id": "9DdgIakerg_o"
      },
      "source": [
        "Now lets define a method for this: "
      ]
    },
    {
      "cell_type": "code",
      "execution_count": null,
      "metadata": {
        "id": "VH80FMozrg_o"
      },
      "outputs": [],
      "source": [
        "def dints(mol):\n",
        "    h_xAB    = -mol.intor('ECPscalar_ipnuc', comp=3)\n",
        "    h_xAB   += -mol.intor('int1e_ipkin', comp=3)\n",
        "    h_xAB   += -mol.intor('int1e_ipnuc', comp=3)\n",
        "    S_xAB    = -mol.intor('int1e_ipovlp', comp=3)\n",
        "    I_xABCD  = -mol.intor('int2e_ip1', comp=3)\n",
        "    dI_pyscf = np.zeros(((len(mol.aoslice_by_atom()),) + I_xABCD.shape))\n",
        "    dH_pyscf = np.zeros(((len(mol.aoslice_by_atom()),) + h_xAB.shape))\n",
        "    dS_pyscf = np.zeros(((len(mol.aoslice_by_atom()),) + S_xAB.shape))\n",
        "    for i in range(len(mol.aoslice_by_atom())):\n",
        "        dI_pyscf[i] = I_deriv(i, I_xABCD, mol)\n",
        "        dS_pyscf[i] = S_deriv(i, S_xAB, mol)\n",
        "        dH_pyscf[i] = h_deriv(i, h_xAB, mol)\n",
        "    return dI_pyscf, dS_pyscf, dH_pyscf"
      ]
    },
    {
      "cell_type": "code",
      "execution_count": null,
      "metadata": {
        "tags": [],
        "id": "r0hjcFRXrg_o"
      },
      "outputs": [],
      "source": [
        "def Bohr(x): ### given Ångström get Bohr\n",
        "    return 1.889726125 * x \n",
        "\n",
        "def Ångström(x): ### given Bohr get Ångström\n",
        "    return x / 1.889726125\n",
        "\n",
        "def get_UFock(I, H, Da, Db):\n",
        "    J  = np.einsum(\"mnrs, rs -> mn\", I, Da + Db , optimize=True)\n",
        "    Kα = np.einsum(\"mnrs, nr -> ms\", I, Da , optimize=True)\n",
        "    Kβ = np.einsum(\"mnrs, nr -> ms\", I, Db , optimize=True)\n",
        "    Fα = H + J - Kα\n",
        "    Fβ = H + J - Kβ\n",
        "    return Fα,  Fβ\n",
        "\n",
        "def get_Euhf(H, DA, DB, FA, FB):\n",
        "    Euhf  = np.einsum(\"pq,pq->\", DA + DB, H)\n",
        "    Euhf += np.einsum(\"pq,pq->\", DA, FA)\n",
        "    Euhf += np.einsum(\"pq,pq->\", DB, FB)\n",
        "    Euhf *= 0.5\n",
        "    return Euhf\n",
        "\n",
        "def get_force(dI, dS, dH, DA, DB, FA, FB):\n",
        "    D = DA + DB    \n",
        "\n",
        "    ## Hellman Feynman\n",
        "    fix  = -1.0*np.einsum(\"mn, IXmn -> IX\",  D, dH)\n",
        "    fix -=  0.5*np.einsum(\"nm, ls, IXmnls -> IX\",  D,  D, dI, optimize=True) ## dJ\n",
        "    fix +=  0.5*np.einsum(\"nm, ls, IXmlsn -> IX\", DA, DA, dI, optimize=True) ## dKα\n",
        "    fix +=  0.5*np.einsum(\"nm, ls, IXmlsn -> IX\", DB, DB, dI, optimize=True) ## dKβ\n",
        "\n",
        "    ## Pulay\n",
        "    fix += 1.0*np.einsum(\"ij, IXjk, kl, il -> IX\", DA, dS, DA, FA, optimize=True)\n",
        "    fix += 1.0*np.einsum(\"ij, IXjk, kl, il -> IX\", DB, dS, DB, FB, optimize=True)\n",
        "\n",
        "    return fix\n",
        "\n",
        "def grad_nuc(mol, atmlst=None):\n",
        "    '''\n",
        "    Author: Qiming Sun <osirpt.sun@gmail.com>\n",
        "    Derivatives of nuclear repulsion energy wrt nuclear coordinates\n",
        "    '''\n",
        "    gs = np.zeros((mol.natm,3))\n",
        "    for j in range(mol.natm):\n",
        "        q2 = mol.atom_charge(j)\n",
        "        r2 = mol.atom_coord(j)\n",
        "        for i in range(mol.natm):\n",
        "            if i != j:\n",
        "                q1 = mol.atom_charge(i)\n",
        "                r1 = mol.atom_coord(i)\n",
        "                r = np.sqrt(np.dot(r1-r2,r1-r2))\n",
        "                gs[j] -= q1 * q2 * (r2-r1) / r**3\n",
        "    if atmlst is not None:\n",
        "        gs = gs[atmlst]\n",
        "    return gs"
      ]
    },
    {
      "cell_type": "code",
      "source": [
        "def get_f_ix(mol, DA, DB, FA, FB):\n",
        "    \"\"\"\n",
        "    GIVEN:\n",
        "    mol : PySCF mol object\n",
        "    DA, DB: AO Density Matrices (2d numpy arrays)\n",
        "    FA, FB: AO Fock Matrices (2d numpy arrays)\n",
        "    GET:\n",
        "    HF force between atoms\n",
        "    \"\"\"\n",
        "    h_xAB    = -mol.intor('ECPscalar_ipnuc', comp=3)\n",
        "    h_xAB   += -mol.intor('int1e_ipkin', comp=3)\n",
        "    h_xAB   += -mol.intor('int1e_ipnuc', comp=3)\n",
        "    S_xAB    = -mol.intor('int1e_ipovlp', comp=3)\n",
        "    I_xABCD  = -mol.intor('int2e_ip1', comp=3)\n",
        "    ff_ix    = np.zeros( (len(mol.aoslice_by_atom()), 3) )\n",
        "    for i in range(len(mol.aoslice_by_atom())):\n",
        "        dI_x = I_deriv(i, I_xABCD, mol)\n",
        "        dS_x = S_deriv(i, S_xAB, mol)\n",
        "        ff_ix[i]  = -1.0*np.einsum(\"mn, Xmn -> X\",  DA+DB, h_deriv(i, h_xAB, mol))\n",
        "        ff_ix[i] -=  0.5*np.einsum(\"nm, ls, Xmnls -> X\", DA+DB, DA+DB, dI_x, optimize=True) ## dJ\n",
        "        ff_ix[i] +=  0.5*np.einsum(\"nm, ls, Xmlsn -> X\", DA, DA, dI_x, optimize=True) ## dKα\n",
        "        ff_ix[i] +=  0.5*np.einsum(\"nm, ls, Xmlsn -> X\", DB, DB, dI_x, optimize=True) ## dKβ\n",
        "\n",
        "        ## Pulay\n",
        "        ff_ix[i] += 1.0*np.einsum(\"ij, Xjk, kl, il -> X\", DA, dS_x, DA, FA, optimize=True)\n",
        "        ff_ix[i] += 1.0*np.einsum(\"ij, Xjk, kl, il -> X\", DB, dS_x, DB, FB, optimize=True)\n",
        "\n",
        "    return ff_ix"
      ],
      "metadata": {
        "id": "bE-3w48UtFmX"
      },
      "execution_count": null,
      "outputs": []
    },
    {
      "cell_type": "code",
      "execution_count": null,
      "metadata": {
        "id": "xfjR4Fokrg_p"
      },
      "outputs": [],
      "source": [
        "dI, dS, dH = dints(h2o)"
      ]
    },
    {
      "cell_type": "markdown",
      "metadata": {
        "id": "CyBPJb1Irg_p"
      },
      "source": [
        "Let's Scan OH (with 9 electrons) with UHF and compare the Numerical and Analytical Gradient."
      ]
    },
    {
      "cell_type": "code",
      "execution_count": null,
      "metadata": {
        "id": "F4mwZvlwrg_p"
      },
      "outputs": [],
      "source": [
        "dx       = 0.05\n",
        "distance = np.arange(0.5, 2.7, dx) ## in Ångströms\n",
        "force    = np.zeros(distance.shape)\n",
        "energy   = np.zeros(distance.shape)\n",
        "energyA  = np.zeros(distance.shape)\n",
        "\n",
        "oh = gto.Mole()\n",
        "oh.verbose = 0\n",
        "oh.atom = [\n",
        "    ['O' , (0. , 0.     , 0.)],\n",
        "    [1   , (0. , 0. , 0.45)]]\n",
        "oh.spin = 1\n",
        "oh.basis = {\"H\": \"sto-3g\",\n",
        "             \"O\": \"lanl2dz\",}\n",
        "oh.build()\n",
        "OH_UHF = scf.UHF(oh)\n",
        "OH_UHF.conv_tol = 1e-12\n",
        "OH_UHF.kernel()\n",
        "DA, DB = oh.make_rdm1()\n",
        "\n",
        "for i in range(len(distance)):\n",
        "    \n",
        "    oh = gto.Mole()\n",
        "    oh.verbose = 0\n",
        "    oh.atom = [\n",
        "        ['O' , (0. , 0.     , 0.)],\n",
        "        [1   , (0. , 0. , distance[i])]]\n",
        "    oh.spin = 1\n",
        "    oh.basis = {\"H\": \"sto-3g\",\n",
        "                 \"O\": \"lanl2dz\",}\n",
        "    oh.build()\n",
        "    OH_UHF = scf.UHF(oh)\n",
        "    OH_UHF.conv_tol = 1e-12\n",
        "    OH_UHF.kernel((DA, DB))\n",
        "    energy[i] = OH_UHF.scf()\n",
        "    \n",
        "    dmA, dmB = oh.make_rdm1()\n",
        "    II = oh.intor(\"int2e\")\n",
        "    H  = oh.intor(\"int1e_kin\") + oh.intor(\"int1e_nuc\") + oh.intor(\"ECPscalar\") ### get ECP!!!\n",
        "    \n",
        "    FA, FB = get_UFock(II, H, dmA, dmB)\n",
        "    energyA[i] = get_Euhf(H, dmA, dmB, FA, FB) + oh.energy_nuc()\n",
        "    \n",
        "    dI, dS, dH = dints(oh)\n",
        "    force[i] = (get_force(dI, dS, dH, dmA, dmB, FA, FB) - grad_nuc(oh))[0,2]\n",
        "    \n",
        "    DA = dmA\n",
        "    DB = dmB"
      ]
    },
    {
      "cell_type": "code",
      "source": [
        "fmol_ix = get_f_ix(oh, DA, DB, FA, FB)\n",
        "fall_ix = get_force(dI, dS, dH, dmA, dmB, FA, FB)\n",
        "np.allclose( fmol_ix , fall_ix )\n",
        "fmol_ix"
      ],
      "metadata": {
        "colab": {
          "base_uri": "https://localhost:8080/"
        },
        "id": "JrpaFDo3ugZJ",
        "outputId": "ea6e8303-eabe-464b-a12c-2cc80781e562"
      },
      "execution_count": null,
      "outputs": [
        {
          "output_type": "execute_result",
          "data": {
            "text/plain": [
              "array([[ 0.      ,  0.      ,  0.380997],\n",
              "       [-0.      , -0.      , -0.380997]])"
            ]
          },
          "metadata": {},
          "execution_count": 25
        }
      ]
    },
    {
      "cell_type": "code",
      "execution_count": null,
      "metadata": {
        "colab": {
          "base_uri": "https://localhost:8080/"
        },
        "id": "im0ZFQo8rg_q",
        "outputId": "77fa9f5a-9cd4-4279-a174-fcb4d2e5898a"
      },
      "outputs": [
        {
          "output_type": "execute_result",
          "data": {
            "text/plain": [
              "array([ 0.,  0.,  0.,  0.,  0.,  0.,  0.,  0.,  0.,  0.,  0.,  0.,  0.,  0.,  0.,  0.,  0.,  0.,  0.,  0., -0., -0.,  0.,  0.,  0.,  0.,  0., -0., -0., -0., -0., -0., -0., -0.,  0., -0., -0., -0.,\n",
              "        0., -0., -0., -0., -0.,  0.])"
            ]
          },
          "metadata": {},
          "execution_count": 14
        }
      ],
      "source": [
        "energyA - energy"
      ]
    },
    {
      "cell_type": "code",
      "execution_count": null,
      "metadata": {
        "tags": [],
        "colab": {
          "base_uri": "https://localhost:8080/",
          "height": 297
        },
        "id": "z70Okqbyrg_q",
        "outputId": "fdf16aa2-aaf9-45e7-b1a7-f00804cb8ce4"
      },
      "outputs": [
        {
          "output_type": "display_data",
          "data": {
            "text/plain": [
              "<Figure size 432x288 with 1 Axes>"
            ],
            "image/png": "[encoded data removed]"
          },
          "metadata": {
            "needs_background": "light"
          }
        }
      ],
      "source": [
        "plt.plot(distance, energy, \"-\")\n",
        "plt.title(\"Potential Energy Surface\")\n",
        "plt.xlabel(\"Interatomic Distance (Å)\")\n",
        "plt.ylabel(\"Energy\")\n",
        "plt.show()"
      ]
    },
    {
      "cell_type": "code",
      "execution_count": null,
      "metadata": {
        "colab": {
          "base_uri": "https://localhost:8080/",
          "height": 297
        },
        "id": "XIUOuToMrg_q",
        "outputId": "f937b385-e658-48e9-d1ab-ba9e39b05a72"
      },
      "outputs": [
        {
          "output_type": "display_data",
          "data": {
            "text/plain": [
              "<Figure size 432x288 with 1 Axes>"
            ],
            "image/png": "[encoded data removed]"
          },
          "metadata": {
            "needs_background": "light"
          }
        }
      ],
      "source": [
        "plt.plot(distance[1:], (-np.gradient(energy, Bohr(dx)))[1:], \"-\")\n",
        "plt.plot(distance[1:], -force[1:], linestyle=\"dashed\")\n",
        "plt.title(\"Energy Gradient\")\n",
        "plt.xlabel(\"Interatomic Distance (Å)\")\n",
        "plt.ylabel(\"Energy Gradient\")\n",
        "plt.show()"
      ]
    },
    {
      "cell_type": "code",
      "execution_count": null,
      "metadata": {
        "colab": {
          "base_uri": "https://localhost:8080/",
          "height": 297
        },
        "id": "nRw0Oosurg_q",
        "outputId": "baf24172-7073-42dc-9cb0-02e0cf89dbd6"
      },
      "outputs": [
        {
          "output_type": "display_data",
          "data": {
            "text/plain": [
              "<Figure size 432x288 with 1 Axes>"
            ],
            "image/png": "[encoded data removed]"
          },
          "metadata": {
            "needs_background": "light"
          }
        }
      ],
      "source": [
        "plt.plot(distance[1:], (-np.gradient(energy, Bohr(dx)))[1:] + (force)[1:] , \"-\")\n",
        "plt.title(\"Numerical and Analytical Gradient Difference\")\n",
        "plt.xlabel(\"Interatomic Distance (Å)\")\n",
        "plt.ylabel(\"Error in Gradient\")\n",
        "plt.show()"
      ]
    },
    {
      "cell_type": "markdown",
      "source": [
        "## Export to HF_gradient.py"
      ],
      "metadata": {
        "id": "-v7I6NE0sDFy"
      }
    },
    {
      "cell_type": "code",
      "execution_count": null,
      "metadata": {
        "colab": {
          "base_uri": "https://localhost:8080/"
        },
        "id": "7gE_fpOfrg_r",
        "outputId": "fb4ddcbd-778c-4498-bd12-1b1ef2a75302"
      },
      "outputs": [
        {
          "output_type": "stream",
          "name": "stdout",
          "text": [
            "fatal: destination path 'pyprototyp' already exists and is not an empty directory.\n"
          ]
        }
      ],
      "source": [
        "!git clone https://github.com/jcandane/pyprototyp\n",
        "from pyprototyp.pyprototyp import pyprototyp\n",
        "\n",
        "pyprototyp(\"HF_gradient\", packages=[], useful=[], defs=[h_deriv, S_deriv, I_deriv, get_f_ix], classes=[])"
      ]
    },
    {
      "cell_type": "code",
      "source": [
        ""
      ],
      "metadata": {
        "id": "jjaySsm2vZYD"
      },
      "execution_count": null,
      "outputs": []
    }
  ],
  "metadata": {
    "kernelspec": {
      "display_name": "Python 3",
      "language": "python",
      "name": "python3"
    },
    "language_info": {
      "codemirror_mode": {
        "name": "ipython",
        "version": 3
      },
      "file_extension": ".py",
      "mimetype": "text/x-python",
      "name": "python",
      "nbconvert_exporter": "python",
      "pygments_lexer": "ipython3",
      "version": "3.7.7"
    },
    "colab": {
      "name": "PySCF_Gradients.ipynb",
      "provenance": [],
      "collapsed_sections": [],
      "include_colab_link": true
    }
  },
  "nbformat": 4,
  "nbformat_minor": 0
}