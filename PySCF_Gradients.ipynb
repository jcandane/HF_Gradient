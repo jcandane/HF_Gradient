{
 "cells": [
  {
   "cell_type": "markdown",
   "metadata": {},
   "source": [
    "# Nuclear Gradients of AO Integrals in PySCF"
   ]
  },
  {
   "cell_type": "markdown",
   "metadata": {},
   "source": [
    "Let's begin by importing packages"
   ]
  },
  {
   "cell_type": "code",
   "execution_count": 1,
   "metadata": {},
   "outputs": [],
   "source": [
    "import numpy as np\n",
    "import matplotlib.pyplot as plt\n",
    "from pyscf import scf, gto\n",
    "\n",
    "np.set_printoptions(precision=6, linewidth=200, threshold=2000, suppress=True)"
   ]
  },
  {
   "cell_type": "markdown",
   "metadata": {},
   "source": [
    "Let's Setup the Water Molecule with PySCF"
   ]
  },
  {
   "cell_type": "code",
   "execution_count": 2,
   "metadata": {},
   "outputs": [
    {
     "name": "stdout",
     "output_type": "stream",
     "text": [
      "-74.96306312972916\n"
     ]
    }
   ],
   "source": [
    "h2o = gto.Mole()\n",
    "h2o.verbose = 0\n",
    "h2o.atom = [\n",
    "    ['O' , (0. , 0.     , 0.)],\n",
    "    [1   , (0. , -0.757 , 0.587)],\n",
    "    [1   , (0. , 0.757  , 0.587)] ]\n",
    "h2o.basis = {'H': 'sto-3g',\n",
    "             'O': 'sto-3g',}\n",
    "h2o.build()\n",
    "H20_HF = scf.RHF(h2o)\n",
    "H20_HF.conv_tol = 1e-14\n",
    "e0 = H20_HF.scf()\n",
    "print(e0)"
   ]
  },
  {
   "cell_type": "markdown",
   "metadata": {},
   "source": [
    "Let's Import, prebuilt functions:"
   ]
  },
  {
   "cell_type": "code",
   "execution_count": 40,
   "metadata": {},
   "outputs": [],
   "source": [
    "def h_deriv(atom_id, h1, mol):\n",
    "    shl0, shl1, p0, p1 = (mol.aoslice_by_atom())[atom_id]\n",
    "    with mol.with_rinv_at_nucleus(atom_id):\n",
    "        vrinv  = (-mol.atom_charge(atom_id)) * mol.intor('int1e_iprinv', comp=3) # <\\nabla|1/r|>\n",
    "        vrinv += mol.intor('ECPscalar_iprinv', comp=3)\n",
    "    vrinv[:,p0:p1] += h1[:,p0:p1]\n",
    "    return vrinv + vrinv.swapaxes(1,2) \n",
    "def S_deriv(atom_id, S_xAB, mol):\n",
    "    shl0, shl1, p0, p1 = (mol.aoslice_by_atom())[atom_id]\n",
    "\n",
    "    vrinv = np.zeros(S_xAB.shape)\n",
    "    vrinv[:, p0:p1, :] += S_xAB[:, p0:p1, :]\n",
    "    \n",
    "    return vrinv + vrinv.swapaxes(1,2)\n",
    "def I_deriv(atom_id, I_xABCD, mol):\n",
    "    shl0, shl1, p0, p1 = (mol.aoslice_by_atom())[atom_id]\n",
    "\n",
    "    vrinv  = np.zeros(I_xABCD.shape)\n",
    "    vrinv[:, p0:p1, :, :, :] += I_xABCD[:, p0:p1, :, :, :]\n",
    "    \n",
    "    vrinv += np.einsum(\"xABCD -> xCDAB\", vrinv) \n",
    "    vrinv += np.einsum(\"xABCD -> xBACD\", vrinv) \n",
    "    vrinv += np.einsum(\"xABCD -> xABDC\", vrinv)\n",
    "    vrinv += np.einsum(\"xABCD -> xBADC\", vrinv)\n",
    "    \n",
    "    return vrinv/4."
   ]
  },
  {
   "cell_type": "code",
   "execution_count": 41,
   "metadata": {},
   "outputs": [],
   "source": [
    "h_xAB    = -h2o.intor('ECPscalar_ipnuc', comp=3)\n",
    "h_xAB   += -h2o.intor('int1e_ipkin', comp=3)\n",
    "h_xAB   += -h2o.intor('int1e_ipnuc', comp=3)\n",
    "S_xAB    = -h2o.intor('int1e_ipovlp', comp=3)\n",
    "I_xABCD  = -h2o.intor('int2e_ip1', comp=3)\n",
    "dI_pyscf = np.zeros(((len(h2o.aoslice_by_atom()),) + I_xABCD.shape))\n",
    "dH_pyscf = np.zeros(((len(h2o.aoslice_by_atom()),) + h_xAB.shape))\n",
    "dS_pyscf = np.zeros(((len(h2o.aoslice_by_atom()),) + S_xAB.shape))\n",
    "for i in range(len(h2o.aoslice_by_atom())):\n",
    "    dI_pyscf[i] = I_deriv(i, I_xABCD, h2o)\n",
    "    dS_pyscf[i] = S_deriv(i, S_xAB, h2o)\n",
    "    dH_pyscf[i] = h_deriv(i, h_xAB, h2o)"
   ]
  },
  {
   "cell_type": "code",
   "execution_count": 42,
   "metadata": {},
   "outputs": [
    {
     "name": "stdout",
     "output_type": "stream",
     "text": [
      "[[-0.24116  -0.065831 -0.044186  0.        0.010817 -0.01799   0.        0.00143  -0.002378 -1.787147 -0.014103]\n",
      " [-0.065831 -0.239444 -0.181672  0.        0.070332 -0.120916  0.        0.028594 -0.057821 -2.668707 -0.074685]\n",
      " [-0.044186 -0.181672 -0.17072   0.        0.055114 -0.113178  0.       -0.001366 -0.076276 -2.265759 -0.092244]\n",
      " [ 0.        0.        0.       -0.194333  0.        0.       -0.073471  0.        0.        0.        0.      ]\n",
      " [ 0.010817  0.070332  0.055114  0.       -0.2317    0.063477  0.       -0.081086  0.03541   0.58749  -0.017999]\n",
      " [-0.01799  -0.120916 -0.113178  0.        0.063477 -0.270309  0.        0.03541  -0.123806 -1.49982  -0.068811]\n",
      " [ 0.        0.        0.       -0.073471  0.        0.       -0.069494  0.        0.        0.        0.      ]\n",
      " [ 0.00143   0.028594 -0.001366  0.       -0.081086  0.03541   0.       -0.008753  0.006851 -0.426321 -0.039429]\n",
      " [-0.002378 -0.057821 -0.076276  0.        0.03541  -0.123806  0.        0.006851 -0.116643 -0.982525 -0.069853]\n",
      " [-1.787147 -2.668707 -2.265759  0.        0.58749  -1.49982   0.       -0.426321 -0.982525 -1.715006 -1.360205]\n",
      " [-0.014103 -0.074685 -0.092244  0.       -0.017999 -0.068811  0.       -0.039429 -0.069853 -1.360205 -0.118652]]\n"
     ]
    }
   ],
   "source": [
    "print(dH_pyscf[1,1])"
   ]
  },
  {
   "cell_type": "code",
   "execution_count": 43,
   "metadata": {},
   "outputs": [
    {
     "name": "stdout",
     "output_type": "stream",
     "text": [
      "[[ 0.        0.        0.        0.        0.        0.        0.        0.        0.        0.072644  0.      ]\n",
      " [ 0.        0.        0.        0.        0.        0.        0.        0.        0.        0.243566  0.      ]\n",
      " [ 0.        0.        0.        0.        0.        0.        0.        0.        0.        0.211941  0.      ]\n",
      " [ 0.        0.        0.        0.        0.        0.        0.        0.        0.        0.        0.      ]\n",
      " [ 0.        0.        0.        0.        0.        0.        0.        0.        0.       -0.062377  0.      ]\n",
      " [ 0.        0.        0.        0.        0.        0.        0.        0.        0.        0.146954  0.      ]\n",
      " [ 0.        0.        0.        0.        0.        0.        0.        0.        0.        0.        0.      ]\n",
      " [ 0.        0.        0.        0.        0.        0.        0.        0.        0.        0.036889  0.      ]\n",
      " [ 0.        0.        0.        0.        0.        0.        0.        0.        0.        0.098109  0.      ]\n",
      " [ 0.072644  0.243566  0.211941  0.       -0.062377  0.146954  0.        0.036889  0.098109  0.170696  0.124601]\n",
      " [ 0.        0.        0.        0.        0.        0.        0.        0.        0.        0.124601  0.      ]]\n"
     ]
    }
   ],
   "source": [
    "print(dI_pyscf[1,1,1,1])"
   ]
  },
  {
   "cell_type": "code",
   "execution_count": 44,
   "metadata": {},
   "outputs": [
    {
     "name": "stdout",
     "output_type": "stream",
     "text": [
      "[[ 0.        0.        0.        0.        0.        0.        0.        0.        0.        0.057311  0.      ]\n",
      " [ 0.        0.        0.        0.        0.        0.        0.        0.        0.        0.259096  0.      ]\n",
      " [ 0.        0.        0.        0.        0.        0.        0.        0.        0.        0.250574  0.      ]\n",
      " [ 0.        0.        0.        0.        0.        0.        0.        0.        0.        0.        0.      ]\n",
      " [ 0.        0.        0.        0.        0.        0.        0.        0.        0.       -0.058112  0.      ]\n",
      " [ 0.        0.        0.        0.        0.        0.        0.        0.        0.        0.178916  0.      ]\n",
      " [ 0.        0.        0.        0.        0.        0.        0.        0.        0.        0.        0.      ]\n",
      " [ 0.        0.        0.        0.        0.        0.        0.        0.        0.        0.146983  0.      ]\n",
      " [ 0.        0.        0.        0.        0.        0.        0.        0.        0.        0.143761  0.      ]\n",
      " [ 0.057311  0.259096  0.250574  0.       -0.058112  0.178916  0.        0.146983  0.143761  0.        0.191429]\n",
      " [ 0.        0.        0.        0.        0.        0.        0.        0.        0.        0.191429  0.      ]]\n"
     ]
    }
   ],
   "source": [
    "print(dS_pyscf[1,1])"
   ]
  },
  {
   "cell_type": "markdown",
   "metadata": {},
   "source": [
    "Let's try something with an ECP potential!"
   ]
  },
  {
   "cell_type": "code",
   "execution_count": 45,
   "metadata": {},
   "outputs": [],
   "source": [
    "h2o = gto.Mole()\n",
    "h2o.verbose = 0\n",
    "h2o.atom = [\n",
    "    ['O' , (0. , 0.     , 0.)],\n",
    "    [1   , (0. , -0.757 , 0.587)],\n",
    "    [1   , (0. , 0.757  , 0.587)] ]\n",
    "h2o.basis = {'H': 'sto-3g',\n",
    "             'O': 'lanl2dz',}\n",
    "h2o.build()\n",
    "H20_HF = scf.RHF(h2o)\n",
    "H20_HF.conv_tol = 1e-14\n",
    "e0 = H20_HF.scf()"
   ]
  },
  {
   "cell_type": "markdown",
   "metadata": {},
   "source": [
    "Now lets define a method for this: "
   ]
  },
  {
   "cell_type": "code",
   "execution_count": 46,
   "metadata": {},
   "outputs": [],
   "source": [
    "def dints(mol):\n",
    "    h_xAB    = -mol.intor('ECPscalar_ipnuc', comp=3)\n",
    "    h_xAB   += -mol.intor('int1e_ipkin', comp=3)\n",
    "    h_xAB   += -mol.intor('int1e_ipnuc', comp=3)\n",
    "    S_xAB    = -mol.intor('int1e_ipovlp', comp=3)\n",
    "    I_xABCD  = -mol.intor('int2e_ip1', comp=3)\n",
    "    dI_pyscf = np.zeros(((len(mol.aoslice_by_atom()),) + I_xABCD.shape))\n",
    "    dH_pyscf = np.zeros(((len(mol.aoslice_by_atom()),) + h_xAB.shape))\n",
    "    dS_pyscf = np.zeros(((len(mol.aoslice_by_atom()),) + S_xAB.shape))\n",
    "    for i in range(len(mol.aoslice_by_atom())):\n",
    "        dI_pyscf[i] = I_deriv(i, I_xABCD, mol)\n",
    "        dS_pyscf[i] = S_deriv(i, S_xAB, mol)\n",
    "        dH_pyscf[i] = h_deriv(i, h_xAB, mol)\n",
    "    return dI_pyscf, dS_pyscf, dH_pyscf"
   ]
  },
  {
   "cell_type": "code",
   "execution_count": 47,
   "metadata": {
    "tags": []
   },
   "outputs": [],
   "source": [
    "def Bohr(x): ### given Ångström get Bohr\n",
    "    return 1.889726125 * x \n",
    "\n",
    "def Ångström(x): ### given Bohr get Ångström\n",
    "    return x / 1.889726125\n",
    "\n",
    "def get_UFock(I, H, Da, Db):\n",
    "    J  = np.einsum(\"mnrs, rs -> mn\", I, Da + Db , optimize=True)\n",
    "    Kα = np.einsum(\"mnrs, nr -> ms\", I, Da , optimize=True)\n",
    "    Kβ = np.einsum(\"mnrs, nr -> ms\", I, Db , optimize=True)\n",
    "    Fα = H + J - Kα\n",
    "    Fβ = H + J - Kβ\n",
    "    return Fα,  Fβ\n",
    "\n",
    "def get_Euhf(H, DA, DB, FA, FB):\n",
    "    Euhf  = np.einsum(\"pq,pq->\", DA + DB, H)\n",
    "    Euhf += np.einsum(\"pq,pq->\", DA, FA)\n",
    "    Euhf += np.einsum(\"pq,pq->\", DB, FB)\n",
    "    Euhf *= 0.5\n",
    "    return Euhf\n",
    "\n",
    "def get_force(dI, dS, dH, DA, DB, FA, FB):\n",
    "    D = DA + DB    \n",
    "\n",
    "    ## Hellman Feynman\n",
    "    fix  = -1.0*np.einsum(\"mn, IXmn -> IX\",  D, dH)\n",
    "    fix -=  0.5*np.einsum(\"nm, ls, IXmnls -> IX\",  D,  D, dI, optimize=True) ## dJ\n",
    "    fix +=  0.5*np.einsum(\"nm, ls, IXmlsn -> IX\", DA, DA, dI, optimize=True) ## dKα\n",
    "    fix +=  0.5*np.einsum(\"nm, ls, IXmlsn -> IX\", DB, DB, dI, optimize=True) ## dKβ\n",
    "\n",
    "    ## Pulay\n",
    "    fix += 1.0*np.einsum(\"ij, IXjk, kl, il -> IX\", DA, dS, DA, FA, optimize=True)\n",
    "    fix += 1.0*np.einsum(\"ij, IXjk, kl, il -> IX\", DB, dS, DB, FB, optimize=True)\n",
    "\n",
    "    return fix\n",
    "\n",
    "def grad_nuc(mol, atmlst=None):\n",
    "    '''\n",
    "    Author: Qiming Sun <osirpt.sun@gmail.com>\n",
    "    Derivatives of nuclear repulsion energy wrt nuclear coordinates\n",
    "    '''\n",
    "    gs = np.zeros((mol.natm,3))\n",
    "    for j in range(mol.natm):\n",
    "        q2 = mol.atom_charge(j)\n",
    "        r2 = mol.atom_coord(j)\n",
    "        for i in range(mol.natm):\n",
    "            if i != j:\n",
    "                q1 = mol.atom_charge(i)\n",
    "                r1 = mol.atom_coord(i)\n",
    "                r = np.sqrt(np.dot(r1-r2,r1-r2))\n",
    "                gs[j] -= q1 * q2 * (r2-r1) / r**3\n",
    "    if atmlst is not None:\n",
    "        gs = gs[atmlst]\n",
    "    return gs"
   ]
  },
  {
   "cell_type": "code",
   "execution_count": 48,
   "metadata": {},
   "outputs": [],
   "source": [
    "dI, dS, dH = dints(h2o)"
   ]
  },
  {
   "cell_type": "markdown",
   "metadata": {},
   "source": [
    "Let's Scan OH (with 9 electrons) with UHF and compare the Numerical and Analytical Gradient."
   ]
  },
  {
   "cell_type": "code",
   "execution_count": null,
   "metadata": {},
   "outputs": [],
   "source": [
    "dx       = 0.05\n",
    "distance = np.arange(0.5, 2.7, dx) ## in Ångströms\n",
    "force    = np.zeros(distance.shape)\n",
    "energy   = np.zeros(distance.shape)\n",
    "energyA  = np.zeros(distance.shape)\n",
    "\n",
    "oh = gto.Mole()\n",
    "oh.verbose = 0\n",
    "oh.atom = [\n",
    "    ['O' , (0. , 0.     , 0.)],\n",
    "    [1   , (0. , 0. , 0.45)]]\n",
    "oh.spin = 1\n",
    "oh.basis = {\"H\": \"sto-3g\",\n",
    "             \"O\": \"lanl2dz\",}\n",
    "oh.build()\n",
    "OH_UHF = scf.UHF(oh)\n",
    "OH_UHF.conv_tol = 1e-12\n",
    "OH_UHF.kernel()\n",
    "DA, DB = oh.make_rdm1()\n",
    "\n",
    "for i in range(len(distance)):\n",
    "    \n",
    "    oh = gto.Mole()\n",
    "    oh.verbose = 0\n",
    "    oh.atom = [\n",
    "        ['O' , (0. , 0.     , 0.)],\n",
    "        [1   , (0. , 0. , distance[i])]]\n",
    "    oh.spin = 1\n",
    "    oh.basis = {\"H\": \"sto-3g\",\n",
    "                 \"O\": \"lanl2dz\",}\n",
    "    oh.build()\n",
    "    OH_UHF = scf.UHF(oh)\n",
    "    OH_UHF.conv_tol = 1e-12\n",
    "    OH_UHF.kernel((DA, DB))\n",
    "    energy[i] = OH_UHF.scf()\n",
    "    \n",
    "    dmA, dmB = oh.make_rdm1()\n",
    "    II = oh.intor(\"int2e\")\n",
    "    H  = oh.intor(\"int1e_kin\") + oh.intor(\"int1e_nuc\") + oh.intor(\"ECPscalar\") ### get ECP!!!\n",
    "    \n",
    "    FA, FB = get_UFock(II, H, dmA, dmB)\n",
    "    energyA[i] = get_Euhf(H, dmA, dmB, FA, FB) + oh.energy_nuc()\n",
    "    \n",
    "    dI, dS, dH = dints(oh)\n",
    "    force[i] = (get_force(dI, dS, dH, dmA, dmB, FA, FB) - grad_nuc(oh))[0,2]\n",
    "    \n",
    "    DA = dmA\n",
    "    DB = dmB"
   ]
  },
  {
   "cell_type": "code",
   "execution_count": null,
   "metadata": {},
   "outputs": [],
   "source": [
    "energyA - energy"
   ]
  },
  {
   "cell_type": "code",
   "execution_count": null,
   "metadata": {
    "tags": []
   },
   "outputs": [],
   "source": [
    "plt.plot(distance, energy, \"-\")\n",
    "plt.title(\"Potential Energy Surface\")\n",
    "plt.xlabel(\"Interatomic Distance (Å)\")\n",
    "plt.ylabel(\"Energy\")\n",
    "plt.show()"
   ]
  },
  {
   "cell_type": "code",
   "execution_count": null,
   "metadata": {},
   "outputs": [],
   "source": [
    "plt.plot(distance[1:], (-np.gradient(energy, Bohr(dx)))[1:], \"-\")\n",
    "plt.plot(distance[1:], -force[1:], linestyle=\"dashed\")\n",
    "plt.title(\"Energy Gradient\")\n",
    "plt.xlabel(\"Interatomic Distance (Å)\")\n",
    "plt.ylabel(\"Energy Gradient\")\n",
    "plt.show()"
   ]
  },
  {
   "cell_type": "code",
   "execution_count": 39,
   "metadata": {},
   "outputs": [
    {
     "data": {
      "image/png": "[encoded data removed]",
      "text/plain": [
       "<Figure size 432x288 with 1 Axes>"
      ]
     },
     "metadata": {
      "needs_background": "light"
     },
     "output_type": "display_data"
    }
   ],
   "source": [
    "plt.plot(distance[1:], (-np.gradient(energy, Bohr(dx)))[1:] + (force)[1:] , \"-\")\n",
    "plt.title(\"Numerical and Analytical Gradient Difference\")\n",
    "plt.xlabel(\"Interatomic Distance (Å)\")\n",
    "plt.ylabel(\"Error in Gradient\")\n",
    "plt.show()"
   ]
  },
  {
   "cell_type": "code",
   "execution_count": null,
   "metadata": {},
   "outputs": [],
   "source": []
  }
 ],
 "metadata": {
  "kernelspec": {
   "display_name": "Python 3",
   "language": "python",
   "name": "python3"
  },
  "language_info": {
   "codemirror_mode": {
    "name": "ipython",
    "version": 3
   },
   "file_extension": ".py",
   "mimetype": "text/x-python",
   "name": "python",
   "nbconvert_exporter": "python",
   "pygments_lexer": "ipython3",
   "version": "3.7.7"
  }
 },
 "nbformat": 4,
 "nbformat_minor": 4
}
